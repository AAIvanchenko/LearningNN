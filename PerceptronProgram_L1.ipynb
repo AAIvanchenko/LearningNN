{
 "cells": [
  {
   "cell_type": "markdown",
   "id": "0e048884",
   "metadata": {},
   "source": [
    "# Практическая работа 1\n",
    "\n",
    "## Тема: \"Программная реализация многослойного персептрона\"\n",
    "\n",
    "### Цель: изучение архитектуры нейронной сети; создание и исследование нейронной сети для задачи классификации на языке Python."
   ]
  },
  {
   "cell_type": "code",
   "execution_count": 1,
   "id": "b70636a5",
   "metadata": {},
   "outputs": [],
   "source": [
    "import torch\n",
    "import torchvision\n",
    "import collections\n",
    "import numpy as np \n",
    "import matplotlib.pyplot as plt\n",
    "import torch.nn as nn\n",
    "import torch.nn.functional as F\n",
    "\n",
    "from sklearn.datasets import load_boston\n",
    "from tqdm import tqdm\n",
    "\n",
    "%matplotlib inline"
   ]
  },
  {
   "cell_type": "markdown",
   "id": "d890948f",
   "metadata": {},
   "source": [
    "Выбор нужных классов"
   ]
  },
  {
   "cell_type": "code",
   "execution_count": 2,
   "id": "9353d294",
   "metadata": {},
   "outputs": [],
   "source": [
    "label_need = [0,6,9]"
   ]
  },
  {
   "cell_type": "code",
   "execution_count": 3,
   "id": "b071f9bb",
   "metadata": {},
   "outputs": [],
   "source": [
    "def label_transform(x):\n",
    "    \"\"\"Преобразовываем лайблы для дальнейшей работы\n",
    "        Далее не получится взять необходимые классы, \n",
    "        без предобработки.\"\"\"\n",
    "    \n",
    "    if x in label_need:\n",
    "        return label_need.index(x)\n",
    "    return -1"
   ]
  },
  {
   "cell_type": "code",
   "execution_count": 4,
   "id": "f222dee0",
   "metadata": {},
   "outputs": [],
   "source": [
    "# Загружаем train set\n",
    "train_data = torchvision.datasets.FashionMNIST(\n",
    "    './mnist/', train=True, download=True, \n",
    "    transform=torchvision.transforms.ToTensor(),\n",
    "    target_transform = label_transform\n",
    ")\n",
    "\n",
    "# Загружаем test set\n",
    "test_data = torchvision.datasets.FashionMNIST(\n",
    "    './mnist/', train=False, download=True,\n",
    "    transform=torchvision.transforms.ToTensor(),\n",
    "    target_transform = label_transform\n",
    ") "
   ]
  },
  {
   "cell_type": "markdown",
   "id": "fd317c04",
   "metadata": {},
   "source": [
    "Посмотрим как выглядят данные"
   ]
  },
  {
   "cell_type": "code",
   "execution_count": 5,
   "id": "0748772e",
   "metadata": {
    "scrolled": true
   },
   "outputs": [
    {
     "data": {
      "image/png": "[encoded data removed]",
      "text/plain": [
       "<Figure size 576x576 with 9 Axes>"
      ]
     },
     "metadata": {
      "needs_background": "light"
     },
     "output_type": "display_data"
    }
   ],
   "source": [
    "output_mapping = {\n",
    "    0: \"T-Shirt\",\n",
    "    1: \"Shirt\",\n",
    "    2: \"Boats\",\n",
    "    -1: \"Others\",\n",
    "}\n",
    "figure = plt.figure(figsize=(8, 8))\n",
    "cols, rows = 3, 3\n",
    "for i in range(1, cols * rows + 1):\n",
    "    sample_idx = torch.randint(len(train_data), size=(1,)).item()\n",
    "    img, label = train_data[sample_idx]\n",
    "    figure.add_subplot(rows, cols, i)\n",
    "    plt.title(output_mapping[label])\n",
    "    plt.axis(\"off\")\n",
    "    plt.imshow(img.squeeze(), cmap=\"gray\")\n",
    "plt.show()"
   ]
  },
  {
   "cell_type": "markdown",
   "id": "12afd38a",
   "metadata": {},
   "source": [
    "Выбор нужных классов"
   ]
  },
  {
   "cell_type": "code",
   "execution_count": 6,
   "id": "9d39f7c8",
   "metadata": {},
   "outputs": [],
   "source": [
    "need_train_index = [i for i, data in enumerate(train_data) if data[1] >= 0]\n",
    "need_test_index = [i for i, data in enumerate(test_data) if data[1] >= 0]"
   ]
  },
  {
   "cell_type": "code",
   "execution_count": 7,
   "id": "b1f8b507",
   "metadata": {},
   "outputs": [
    {
     "name": "stdout",
     "output_type": "stream",
     "text": [
      "Размер train по заданию 18000\n",
      "Размер test 3000\n"
     ]
    }
   ],
   "source": [
    "print(\"Размер train по заданию\", len(need_train_index))\n",
    "print(\"Размер test\", len(need_test_index))"
   ]
  },
  {
   "cell_type": "markdown",
   "id": "83b8ea2d",
   "metadata": {},
   "source": [
    "Разделение выборки на valid и test"
   ]
  },
  {
   "cell_type": "code",
   "execution_count": 8,
   "id": "4c641923",
   "metadata": {},
   "outputs": [],
   "source": [
    "from sklearn.model_selection import train_test_split\n",
    "X = need_train_index\n",
    "y = [train_data[i][1] for i in need_train_index]"
   ]
  },
  {
   "cell_type": "code",
   "execution_count": 9,
   "id": "dd6e7b0a",
   "metadata": {},
   "outputs": [],
   "source": [
    "train_index, valid_index, _, _ = train_test_split(X, y, train_size=5/6, \n",
    "                                            random_state=42,\n",
    "                                               stratify=y)"
   ]
  },
  {
   "cell_type": "code",
   "execution_count": 10,
   "id": "a067e541",
   "metadata": {},
   "outputs": [
    {
     "data": {
      "text/plain": [
       "15000"
      ]
     },
     "execution_count": 10,
     "metadata": {},
     "output_type": "execute_result"
    }
   ],
   "source": [
    "len(train_index)"
   ]
  },
  {
   "cell_type": "code",
   "execution_count": 11,
   "id": "11628934",
   "metadata": {},
   "outputs": [
    {
     "data": {
      "text/plain": [
       "3000"
      ]
     },
     "execution_count": 11,
     "metadata": {},
     "output_type": "execute_result"
    }
   ],
   "source": [
    "len(valid_index)"
   ]
  },
  {
   "cell_type": "code",
   "execution_count": 12,
   "id": "40aad331",
   "metadata": {},
   "outputs": [],
   "source": [
    "# Преобразование данных\n",
    "train_set = torch.utils.data.Subset(train_data, train_index)\n",
    "valid_set = torch.utils.data.Subset(train_data, valid_index)\n",
    "test_set = torch.utils.data.Subset(test_data, need_test_index)"
   ]
  },
  {
   "cell_type": "code",
   "execution_count": 13,
   "id": "61e928d6",
   "metadata": {},
   "outputs": [],
   "source": [
    "# DataLoader\n",
    "train_dl = torch.utils.data.DataLoader(train_set, batch_size=64, shuffle=True, num_workers=0)\n",
    "valid_dl = torch.utils.data.DataLoader(valid_set, batch_size=64, shuffle=True, num_workers=0)\n",
    "test_dl = torch.utils.data.DataLoader(test_set, batch_size=64, shuffle=True, num_workers=0)"
   ]
  },
  {
   "cell_type": "markdown",
   "id": "739a7bf7",
   "metadata": {},
   "source": [
    "Распределение классов"
   ]
  },
  {
   "cell_type": "code",
   "execution_count": 14,
   "id": "7b113c2e",
   "metadata": {},
   "outputs": [
    {
     "data": {
      "image/png": "[encoded data removed]",
      "text/plain": [
       "<Figure size 720x720 with 1 Axes>"
      ]
     },
     "metadata": {
      "needs_background": "light"
     },
     "output_type": "display_data"
    },
    {
     "data": {
      "image/png": "[encoded data removed]",
      "text/plain": [
       "<Figure size 720x720 with 1 Axes>"
      ]
     },
     "metadata": {
      "needs_background": "light"
     },
     "output_type": "display_data"
    },
    {
     "data": {
      "image/png": "[encoded data removed]",
      "text/plain": [
       "<Figure size 720x720 with 1 Axes>"
      ]
     },
     "metadata": {
      "needs_background": "light"
     },
     "output_type": "display_data"
    }
   ],
   "source": [
    "for i, data_set in enumerate([train_set, valid_set, test_set]):\n",
    "    plt.figure(figsize =(10, 10))\n",
    "    plt.subplot(3, 1, i + 1)\n",
    "    label = [output_mapping[j] for j in [0, 1, 2]]\n",
    "    value = [collections.Counter([data[1] for data in data_set])[j] for j in [0, 1, 2]]\n",
    "    plt.bar(label, value)\n",
    "    plt.title([\"train\", \"valid\", \"test\"][i])\n",
    "plt.show()"
   ]
  },
  {
   "cell_type": "code",
   "execution_count": 15,
   "id": "f6c83b5d",
   "metadata": {},
   "outputs": [
    {
     "data": {
      "text/plain": [
       "device(type='cuda')"
      ]
     },
     "execution_count": 15,
     "metadata": {},
     "output_type": "execute_result"
    }
   ],
   "source": [
    "# Подключение видеокарты\n",
    "device = torch.device(\"cuda\") if torch.cuda.is_available else torch.device(\"cpu\")\n",
    "device"
   ]
  },
  {
   "cell_type": "code",
   "execution_count": 16,
   "id": "f05965dd",
   "metadata": {},
   "outputs": [],
   "source": [
    "def fit(epochs, model, loss_func, opt, train_dl, valid_dl):\n",
    "    \"\"\"\n",
    "    Функция обучения сети и проверки на валидации.\n",
    "    \"\"\"\n",
    "    train_losses = []\n",
    "    val_losses = []\n",
    "    valid_accuracies = []\n",
    "    \n",
    "    for epoch in range(epochs):\n",
    "        model.train()\n",
    "        loss_sum = 0\n",
    "        for xb, yb in tqdm(train_dl):\n",
    "            xb = torch.reshape(xb,(-1, 28*28))\n",
    "            xb, yb = xb.to(device), yb.to(device)\n",
    "            \n",
    "            loss = loss_func(model(xb), yb)\n",
    "            loss_sum += loss.item()\n",
    "            \n",
    "            loss.backward()\n",
    "            opt.step()\n",
    "            opt.zero_grad()\n",
    "        train_losses.append(loss_sum / len(train_dl))\n",
    "\n",
    "        model.eval()\n",
    "        loss_sum = 0\n",
    "        correct = 0\n",
    "        num = 0\n",
    "        with torch.no_grad():\n",
    "            for xb, yb in tqdm(valid_dl):\n",
    "                xb = torch.reshape(xb,(-1, 28*28))\n",
    "                xb, yb = xb.to(device), yb.to(device)\n",
    "                \n",
    "                probs = model(xb)\n",
    "                loss_sum += loss_func(probs, yb).item()\n",
    "                \n",
    "                _, preds = torch.max(probs, axis=-1)\n",
    "                correct += (preds == yb).sum().item()\n",
    "                num += len(xb)\n",
    "                \n",
    "        val_losses.append(loss_sum / len(valid_dl))\n",
    "        valid_accuracies.append(correct / num)\n",
    "        \n",
    "    return train_losses, val_losses, valid_accuracies"
   ]
  },
  {
   "cell_type": "code",
   "execution_count": 17,
   "id": "8d61eff8",
   "metadata": {},
   "outputs": [],
   "source": [
    "def plot_train(train_losses, valid_losses, valid_accuracies):\n",
    "    \"\"\"\n",
    "    Отрисовка графиков loss функции и accuracy.\n",
    "    Так же выводится число точности на последней эпохи\n",
    "    в valid.\n",
    "    \"\"\"\n",
    "    plt.figure(figsize=(12, 9))\n",
    "    plt.subplot(2, 1, 1)\n",
    "    plt.xlabel(\"epoch\")\n",
    "    plt.plot(train_losses, label=\"train_loss\")\n",
    "    plt.plot(valid_losses, label=\"valid_loss\")\n",
    "    plt.legend()\n",
    "    \n",
    "    plt.subplot(2, 1, 2)\n",
    "    plt.xlabel(\"epoch\")\n",
    "    plt.plot(valid_accuracies, label=\"valid accuracy\")\n",
    "    plt.legend()\n",
    "    print(\"valid accuracy\", valid_accuracies[-1])"
   ]
  },
  {
   "cell_type": "code",
   "execution_count": 18,
   "id": "d3f8f8bb",
   "metadata": {},
   "outputs": [],
   "source": [
    "class ModelThreeLayers(nn.Module):\n",
    "    def __init__(self):\n",
    "        super(ModelThreeLayers, self).__init__()\n",
    "        self.fc1 = nn.Linear(28*28, 700)\n",
    "        self.fc2 = nn.Linear(700, 84)\n",
    "        self.fc3 = nn.Linear(84, 3)\n",
    "\n",
    "    def forward(self, x):\n",
    "        x = F.relu(self.fc1(x))\n",
    "        x = F.relu(self.fc2(x))\n",
    "        x = self.fc3(x)\n",
    "        x = F.softmax(x, 1)\n",
    "        return x"
   ]
  },
  {
   "cell_type": "code",
   "execution_count": 19,
   "id": "ef16abc5",
   "metadata": {},
   "outputs": [
    {
     "name": "stderr",
     "output_type": "stream",
     "text": [
      "100%|████████████████████████████████████████████████████████████████████████████████| 235/235 [00:04<00:00, 56.59it/s]\n",
      "100%|█████████████████████████████████████████████████████████████████████████████████| 47/47 [00:00<00:00, 130.19it/s]\n",
      "100%|███████████████████████████████████████████████████████████████████████████████| 235/235 [00:01<00:00, 118.60it/s]\n",
      "100%|█████████████████████████████████████████████████████████████████████████████████| 47/47 [00:00<00:00, 132.39it/s]\n",
      "100%|███████████████████████████████████████████████████████████████████████████████| 235/235 [00:02<00:00, 109.24it/s]\n",
      "100%|█████████████████████████████████████████████████████████████████████████████████| 47/47 [00:00<00:00, 136.63it/s]\n",
      "100%|███████████████████████████████████████████████████████████████████████████████| 235/235 [00:02<00:00, 108.12it/s]\n",
      "100%|██████████████████████████████████████████████████████████████████████████████████| 47/47 [00:00<00:00, 89.69it/s]\n",
      "100%|███████████████████████████████████████████████████████████████████████████████| 235/235 [00:02<00:00, 111.84it/s]\n",
      "100%|█████████████████████████████████████████████████████████████████████████████████| 47/47 [00:00<00:00, 135.45it/s]\n",
      "100%|███████████████████████████████████████████████████████████████████████████████| 235/235 [00:02<00:00, 104.09it/s]\n",
      "100%|█████████████████████████████████████████████████████████████████████████████████| 47/47 [00:00<00:00, 137.43it/s]\n",
      "100%|███████████████████████████████████████████████████████████████████████████████| 235/235 [00:02<00:00, 107.45it/s]\n",
      "100%|█████████████████████████████████████████████████████████████████████████████████| 47/47 [00:00<00:00, 123.36it/s]\n",
      "100%|███████████████████████████████████████████████████████████████████████████████| 235/235 [00:02<00:00, 105.32it/s]\n",
      "100%|█████████████████████████████████████████████████████████████████████████████████| 47/47 [00:00<00:00, 135.06it/s]\n",
      "100%|███████████████████████████████████████████████████████████████████████████████| 235/235 [00:02<00:00, 110.03it/s]\n",
      "100%|█████████████████████████████████████████████████████████████████████████████████| 47/47 [00:00<00:00, 112.98it/s]\n",
      "100%|████████████████████████████████████████████████████████████████████████████████| 235/235 [00:02<00:00, 97.92it/s]\n",
      "100%|█████████████████████████████████████████████████████████████████████████████████| 47/47 [00:00<00:00, 129.44it/s]\n"
     ]
    }
   ],
   "source": [
    "model_three_layers = ModelThreeLayers().to(device)\n",
    "criterion = nn.CrossEntropyLoss()\n",
    "optimizer = torch.optim.SGD(model_three_layers.parameters(), lr=0.001, momentum=0.9)\n",
    "\n",
    "info_model_three_layers = fit(10, model_three_layers, criterion, optimizer, train_dl, valid_dl)"
   ]
  },
  {
   "cell_type": "code",
   "execution_count": 20,
   "id": "ed9ce17b",
   "metadata": {},
   "outputs": [
    {
     "name": "stdout",
     "output_type": "stream",
     "text": [
      "valid accuracy 0.8853333333333333\n"
     ]
    },
    {
     "data": {
      "image/png": "[encoded data removed]",
      "text/plain": [
       "<Figure size 864x648 with 2 Axes>"
      ]
     },
     "metadata": {
      "needs_background": "light"
     },
     "output_type": "display_data"
    }
   ],
   "source": [
    "plot_train(*info_model_three_layers)"
   ]
  },
  {
   "cell_type": "code",
   "execution_count": 21,
   "id": "4b9fe08f",
   "metadata": {},
   "outputs": [],
   "source": [
    "class ModelTwoLayersSigmoid(nn.Module):\n",
    "    def __init__(self):\n",
    "        super(ModelTwoLayersSigmoid, self).__init__()\n",
    "        self.fc1 = nn.Linear(28*28, 128) \n",
    "        self.fc2 = nn.Linear(128, 3)\n",
    "\n",
    "    def forward(self, x):\n",
    "        x = nn.Sigmoid()(self.fc1(x))\n",
    "        x = self.fc2(x)\n",
    "        x = F.softmax(x, 1)\n",
    "        return x"
   ]
  },
  {
   "cell_type": "code",
   "execution_count": 22,
   "id": "d2c1b4ce",
   "metadata": {
    "scrolled": false
   },
   "outputs": [
    {
     "name": "stderr",
     "output_type": "stream",
     "text": [
      "100%|███████████████████████████████████████████████████████████████████████████████| 235/235 [00:02<00:00, 112.85it/s]\n",
      "100%|█████████████████████████████████████████████████████████████████████████████████| 47/47 [00:00<00:00, 132.40it/s]\n",
      "100%|███████████████████████████████████████████████████████████████████████████████| 235/235 [00:02<00:00, 111.88it/s]\n",
      "100%|█████████████████████████████████████████████████████████████████████████████████| 47/47 [00:00<00:00, 126.69it/s]\n",
      "100%|███████████████████████████████████████████████████████████████████████████████| 235/235 [00:02<00:00, 110.71it/s]\n",
      "100%|█████████████████████████████████████████████████████████████████████████████████| 47/47 [00:00<00:00, 118.99it/s]\n",
      "100%|███████████████████████████████████████████████████████████████████████████████| 235/235 [00:02<00:00, 105.87it/s]\n",
      "100%|█████████████████████████████████████████████████████████████████████████████████| 47/47 [00:00<00:00, 129.48it/s]\n",
      "100%|███████████████████████████████████████████████████████████████████████████████| 235/235 [00:02<00:00, 112.16it/s]\n",
      "100%|█████████████████████████████████████████████████████████████████████████████████| 47/47 [00:00<00:00, 129.48it/s]\n",
      "100%|███████████████████████████████████████████████████████████████████████████████| 235/235 [00:02<00:00, 110.20it/s]\n",
      "100%|█████████████████████████████████████████████████████████████████████████████████| 47/47 [00:00<00:00, 125.33it/s]\n",
      "100%|███████████████████████████████████████████████████████████████████████████████| 235/235 [00:02<00:00, 110.04it/s]\n",
      "100%|█████████████████████████████████████████████████████████████████████████████████| 47/47 [00:00<00:00, 126.01it/s]\n",
      "100%|███████████████████████████████████████████████████████████████████████████████| 235/235 [00:02<00:00, 109.15it/s]\n",
      "100%|█████████████████████████████████████████████████████████████████████████████████| 47/47 [00:00<00:00, 124.66it/s]\n",
      "100%|███████████████████████████████████████████████████████████████████████████████| 235/235 [00:02<00:00, 111.43it/s]\n",
      "100%|█████████████████████████████████████████████████████████████████████████████████| 47/47 [00:00<00:00, 126.00it/s]\n",
      "100%|███████████████████████████████████████████████████████████████████████████████| 235/235 [00:02<00:00, 111.37it/s]\n",
      "100%|█████████████████████████████████████████████████████████████████████████████████| 47/47 [00:00<00:00, 126.68it/s]\n"
     ]
    }
   ],
   "source": [
    "model_two_layers_sigm = ModelTwoLayersSigmoid().to(device)\n",
    "criterion = nn.CrossEntropyLoss()\n",
    "optimizer = torch.optim.SGD(model_two_layers_sigm.parameters(), lr=0.003, momentum=0.9)\n",
    "\n",
    "info_model_two_layers_sigm = fit(10, model_two_layers_sigm, criterion, optimizer, train_dl, valid_dl)"
   ]
  },
  {
   "cell_type": "code",
   "execution_count": 23,
   "id": "f11ea20b",
   "metadata": {},
   "outputs": [
    {
     "name": "stdout",
     "output_type": "stream",
     "text": [
      "valid accuracy 0.8806666666666667\n"
     ]
    },
    {
     "data": {
      "image/png": "[encoded data removed]",
      "text/plain": [
       "<Figure size 864x648 with 2 Axes>"
      ]
     },
     "metadata": {
      "needs_background": "light"
     },
     "output_type": "display_data"
    }
   ],
   "source": [
    "plot_train(*info_model_two_layers_sigm)"
   ]
  },
  {
   "cell_type": "code",
   "execution_count": 24,
   "id": "2ca9f072",
   "metadata": {},
   "outputs": [],
   "source": [
    "class ModelDropBatch(nn.Module):\n",
    "    def __init__(self):\n",
    "        super(ModelDropBatch, self).__init__()\n",
    "        self.fc1 = nn.Linear(28*28, 700)\n",
    "        self.fc2 = nn.Linear(700, 400)\n",
    "        self.fc3 = nn.Linear(400, 3)\n",
    "        self.bn = nn.BatchNorm1d(700)\n",
    "        self.dp1 = nn.Dropout(p=0.3)\n",
    "\n",
    "    def forward(self, x):\n",
    "        x = self.bn(F.relu(self.fc1(x)))\n",
    "        x = self.dp1(F.relu(self.fc2(x)))\n",
    "        x = self.fc3(x)\n",
    "        x = F.softmax(x, 1)\n",
    "        return x"
   ]
  },
  {
   "cell_type": "code",
   "execution_count": null,
   "id": "5ecaca95",
   "metadata": {},
   "outputs": [
    {
     "name": "stderr",
     "output_type": "stream",
     "text": [
      "100%|███████████████████████████████████████████████████████████████████████████████| 235/235 [00:02<00:00, 104.21it/s]\n",
      "100%|█████████████████████████████████████████████████████████████████████████████████| 47/47 [00:00<00:00, 126.68it/s]\n",
      "100%|███████████████████████████████████████████████████████████████████████████████| 235/235 [00:02<00:00, 105.47it/s]\n",
      "100%|█████████████████████████████████████████████████████████████████████████████████| 47/47 [00:00<00:00, 126.00it/s]\n",
      " 37%|█████████████████████████████▉                                                  | 88/235 [00:00<00:01, 100.27it/s]"
     ]
    }
   ],
   "source": [
    "model_drop_batch = ModelDropBatch().to(device)\n",
    "criterion = nn.CrossEntropyLoss()\n",
    "optimizer = torch.optim.SGD(model_drop_batch.parameters(), lr=0.009)\n",
    "\n",
    "info_model_drop_batch = fit(10, model_drop_batch, criterion, optimizer, train_dl, valid_dl)"
   ]
  },
  {
   "cell_type": "code",
   "execution_count": null,
   "id": "009b8ae2",
   "metadata": {},
   "outputs": [],
   "source": [
    "plot_train(*info_model_drop_batch)"
   ]
  },
  {
   "cell_type": "markdown",
   "id": "14339beb",
   "metadata": {},
   "source": [
    "Функция активации (выходная) LogSoftmax"
   ]
  },
  {
   "cell_type": "code",
   "execution_count": null,
   "id": "8fbb788e",
   "metadata": {},
   "outputs": [],
   "source": [
    "class ModelLogSoftmax(nn.Module):\n",
    "    def __init__(self):\n",
    "        super(ModelLogSoftmax, self).__init__()\n",
    "        self.fc1 = nn.Linear(28*28, 10)\n",
    "        self.fc3 = nn.Linear(10, 3)\n",
    "\n",
    "    def forward(self, x):\n",
    "        x = F.relu(self.fc1(x))\n",
    "        x = self.fc3(x)\n",
    "        x = nn.LogSoftmax(dim=1)(x)\n",
    "        return x"
   ]
  },
  {
   "cell_type": "code",
   "execution_count": null,
   "id": "a36dffab",
   "metadata": {},
   "outputs": [],
   "source": [
    "model_logsoftmax = ModelLogSoftmax().to(device)\n",
    "criterion = nn.NLLLoss()\n",
    "optimizer = torch.optim.Adam(model_logsoftmax.parameters(), lr=0.0001)\n",
    "\n",
    "info_model_logsoftmax = fit(7, model_logsoftmax, criterion, optimizer, train_dl, valid_dl)"
   ]
  },
  {
   "cell_type": "code",
   "execution_count": null,
   "id": "4868af34",
   "metadata": {},
   "outputs": [],
   "source": [
    "plot_train(*info_model_logsoftmax)"
   ]
  },
  {
   "cell_type": "markdown",
   "id": "19052ecf",
   "metadata": {},
   "source": [
    "## Проверка на тестовой выборке и выбор лучшей модели"
   ]
  },
  {
   "cell_type": "code",
   "execution_count": null,
   "id": "74d4794b",
   "metadata": {},
   "outputs": [],
   "source": [
    "list_model = [model_three_layers, model_two_layers_sigm, model_drop_batch, model_logsoftmax]\n",
    "model_name = [\"model_three_layers\", \"model_two_layers_sigm\", \"model_drop_batch\", \"model_logsoftmax\"]"
   ]
  },
  {
   "cell_type": "code",
   "execution_count": null,
   "id": "23b213cd",
   "metadata": {},
   "outputs": [],
   "source": [
    "test_accuracies = []\n",
    "for i, model in enumerate(list_model):\n",
    "    model.eval()\n",
    "    correct = 0\n",
    "    num = 0\n",
    "    with torch.no_grad():\n",
    "        for xb, yb in tqdm(valid_dl):\n",
    "                xb = torch.reshape(xb,(-1, 28*28))\n",
    "                xb, yb = xb.to(device), yb.to(device)\n",
    "                \n",
    "                probs = model(xb)\n",
    "                \n",
    "                _, preds = torch.max(probs, axis=-1)\n",
    "                correct += (preds == yb).sum().item()\n",
    "                num += len(xb)\n",
    "        \n",
    "    test_accuracies.append(correct / num)"
   ]
  },
  {
   "cell_type": "code",
   "execution_count": null,
   "id": "d01fdfa9",
   "metadata": {},
   "outputs": [],
   "source": [
    "plt.figure(figsize =(10, 8))\n",
    "plt.subplot(1, 1, 1)\n",
    "plt.ylabel(\"test_accuracies\")\n",
    "plt.bar(model_name, test_accuracies)\n",
    "      \n",
    "plt.show()\n",
    "print(\"accuracies:\",test_accuracies)"
   ]
  }
 ],
 "metadata": {
  "kernelspec": {
   "display_name": "Python 3 (ipykernel)",
   "language": "python",
   "name": "python3"
  },
  "language_info": {
   "codemirror_mode": {
    "name": "ipython",
    "version": 3
   },
   "file_extension": ".py",
   "mimetype": "text/x-python",
   "name": "python",
   "nbconvert_exporter": "python",
   "pygments_lexer": "ipython3",
   "version": "3.7.11"
  }
 },
 "nbformat": 4,
 "nbformat_minor": 5
}
